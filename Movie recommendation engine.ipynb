{
 "cells": [
  {
   "cell_type": "markdown",
   "id": "3b4d25b7",
   "metadata": {},
   "source": [
    "### Import libraries to work with, open file and explore data"
   ]
  },
  {
   "cell_type": "code",
   "execution_count": 1,
   "id": "dcf05198",
   "metadata": {},
   "outputs": [],
   "source": [
    "import pandas as pd\n",
    "import numpy as np\n",
    "from sklearn.metrics.pairwise import cosine_similarity\n",
    "from sklearn.feature_extraction.text import CountVectorizer\n",
    "import sklearn\n",
    "from sklearn import linear_model"
   ]
  },
  {
   "cell_type": "code",
   "execution_count": 2,
   "id": "c1d8a8c2",
   "metadata": {},
   "outputs": [
    {
     "data": {
      "text/html": [
       "<div>\n",
       "<style scoped>\n",
       "    .dataframe tbody tr th:only-of-type {\n",
       "        vertical-align: middle;\n",
       "    }\n",
       "\n",
       "    .dataframe tbody tr th {\n",
       "        vertical-align: top;\n",
       "    }\n",
       "\n",
       "    .dataframe thead th {\n",
       "        text-align: right;\n",
       "    }\n",
       "</style>\n",
       "<table border=\"1\" class=\"dataframe\">\n",
       "  <thead>\n",
       "    <tr style=\"text-align: right;\">\n",
       "      <th></th>\n",
       "      <th>0</th>\n",
       "      <th>1</th>\n",
       "      <th>2</th>\n",
       "      <th>3</th>\n",
       "    </tr>\n",
       "  </thead>\n",
       "  <tbody>\n",
       "    <tr>\n",
       "      <th>0</th>\n",
       "      <td>196</td>\n",
       "      <td>242</td>\n",
       "      <td>3</td>\n",
       "      <td>881250949</td>\n",
       "    </tr>\n",
       "    <tr>\n",
       "      <th>1</th>\n",
       "      <td>186</td>\n",
       "      <td>302</td>\n",
       "      <td>3</td>\n",
       "      <td>891717742</td>\n",
       "    </tr>\n",
       "    <tr>\n",
       "      <th>2</th>\n",
       "      <td>22</td>\n",
       "      <td>377</td>\n",
       "      <td>1</td>\n",
       "      <td>878887116</td>\n",
       "    </tr>\n",
       "  </tbody>\n",
       "</table>\n",
       "</div>"
      ],
      "text/plain": [
       "     0    1  2          3\n",
       "0  196  242  3  881250949\n",
       "1  186  302  3  891717742\n",
       "2   22  377  1  878887116"
      ]
     },
     "execution_count": 2,
     "metadata": {},
     "output_type": "execute_result"
    }
   ],
   "source": [
    "data = pd.read_csv('/Users/AlexDiez/Documents/repoml/datasets/ml-100k/u.data.csv', header = None, sep = '\\t')\n",
    "data.head(3)"
   ]
  },
  {
   "cell_type": "code",
   "execution_count": 3,
   "id": "306d3c93",
   "metadata": {},
   "outputs": [],
   "source": [
    "data.columns= ['UserID', 'ItemID', 'Rating', 'Timestamp']"
   ]
  },
  {
   "cell_type": "code",
   "execution_count": 4,
   "id": "111b9cf0",
   "metadata": {},
   "outputs": [
    {
     "data": {
      "text/html": [
       "<div>\n",
       "<style scoped>\n",
       "    .dataframe tbody tr th:only-of-type {\n",
       "        vertical-align: middle;\n",
       "    }\n",
       "\n",
       "    .dataframe tbody tr th {\n",
       "        vertical-align: top;\n",
       "    }\n",
       "\n",
       "    .dataframe thead th {\n",
       "        text-align: right;\n",
       "    }\n",
       "</style>\n",
       "<table border=\"1\" class=\"dataframe\">\n",
       "  <thead>\n",
       "    <tr style=\"text-align: right;\">\n",
       "      <th></th>\n",
       "      <th>UserID</th>\n",
       "      <th>ItemID</th>\n",
       "      <th>Rating</th>\n",
       "      <th>Timestamp</th>\n",
       "    </tr>\n",
       "  </thead>\n",
       "  <tbody>\n",
       "    <tr>\n",
       "      <th>0</th>\n",
       "      <td>196</td>\n",
       "      <td>242</td>\n",
       "      <td>3</td>\n",
       "      <td>881250949</td>\n",
       "    </tr>\n",
       "    <tr>\n",
       "      <th>1</th>\n",
       "      <td>186</td>\n",
       "      <td>302</td>\n",
       "      <td>3</td>\n",
       "      <td>891717742</td>\n",
       "    </tr>\n",
       "    <tr>\n",
       "      <th>2</th>\n",
       "      <td>22</td>\n",
       "      <td>377</td>\n",
       "      <td>1</td>\n",
       "      <td>878887116</td>\n",
       "    </tr>\n",
       "    <tr>\n",
       "      <th>3</th>\n",
       "      <td>244</td>\n",
       "      <td>51</td>\n",
       "      <td>2</td>\n",
       "      <td>880606923</td>\n",
       "    </tr>\n",
       "    <tr>\n",
       "      <th>4</th>\n",
       "      <td>166</td>\n",
       "      <td>346</td>\n",
       "      <td>1</td>\n",
       "      <td>886397596</td>\n",
       "    </tr>\n",
       "  </tbody>\n",
       "</table>\n",
       "</div>"
      ],
      "text/plain": [
       "   UserID  ItemID  Rating  Timestamp\n",
       "0     196     242       3  881250949\n",
       "1     186     302       3  891717742\n",
       "2      22     377       1  878887116\n",
       "3     244      51       2  880606923\n",
       "4     166     346       1  886397596"
      ]
     },
     "execution_count": 4,
     "metadata": {},
     "output_type": "execute_result"
    }
   ],
   "source": [
    "data.head()"
   ]
  },
  {
   "cell_type": "code",
   "execution_count": 5,
   "id": "8974ec4c",
   "metadata": {},
   "outputs": [
    {
     "data": {
      "text/plain": [
       "1682"
      ]
     },
     "execution_count": 5,
     "metadata": {},
     "output_type": "execute_result"
    }
   ],
   "source": [
    "n_items = data.ItemID.unique().shape[0]\n",
    "n_items"
   ]
  },
  {
   "cell_type": "code",
   "execution_count": 6,
   "id": "f07d0c97",
   "metadata": {},
   "outputs": [
    {
     "data": {
      "text/plain": [
       "943"
      ]
     },
     "execution_count": 6,
     "metadata": {},
     "output_type": "execute_result"
    }
   ],
   "source": [
    "n_users = data.UserID.unique().shape[0]\n",
    "n_users"
   ]
  },
  {
   "cell_type": "markdown",
   "id": "f5f750c0",
   "metadata": {},
   "source": [
    "## Create arrays to work with and similarity matrix"
   ]
  },
  {
   "cell_type": "code",
   "execution_count": 7,
   "id": "253778ea",
   "metadata": {},
   "outputs": [],
   "source": [
    "ratings = np.zeros((n_users, n_items))"
   ]
  },
  {
   "cell_type": "code",
   "execution_count": 8,
   "id": "95e94596",
   "metadata": {},
   "outputs": [],
   "source": [
    "for row in data.itertuples():\n",
    "    ratings[row[1]-1, row[2]-1] = row[3]"
   ]
  },
  {
   "cell_type": "code",
   "execution_count": 9,
   "id": "91904a0a",
   "metadata": {},
   "outputs": [
    {
     "data": {
      "text/plain": [
       "6.304669364224531"
      ]
     },
     "execution_count": 9,
     "metadata": {},
     "output_type": "execute_result"
    }
   ],
   "source": [
    "sparsity = float(len(ratings.nonzero()[0]))\n",
    "sparsity /= (ratings.shape[0]*ratings.shape[1])\n",
    "sparsity *= 100\n",
    "sparsity"
   ]
  },
  {
   "cell_type": "code",
   "execution_count": 10,
   "id": "8d9f5412",
   "metadata": {},
   "outputs": [],
   "source": [
    "ratings_train, ratings_test = sklearn.model_selection.train_test_split(ratings, test_size = 0.3, random_state = 42)"
   ]
  },
  {
   "cell_type": "code",
   "execution_count": 11,
   "id": "8a1415be",
   "metadata": {},
   "outputs": [],
   "source": [
    "sim_matrix = 1 - sklearn.metrics.pairwise.cosine_distances(ratings_train)"
   ]
  },
  {
   "cell_type": "code",
   "execution_count": 12,
   "id": "7bafa81b",
   "metadata": {},
   "outputs": [],
   "source": [
    "users_prediction = sim_matrix.dot(ratings_train) / np.array([np.abs(sim_matrix).sum(axis=1)]).T"
   ]
  },
  {
   "cell_type": "code",
   "execution_count": 19,
   "id": "d87f161c",
   "metadata": {},
   "outputs": [
    {
     "data": {
      "text/plain": [
       "array([[2.10259747e+00, 5.86975978e-01, 3.40264192e-01, ...,\n",
       "        0.00000000e+00, 7.33611460e-03, 6.04379414e-03],\n",
       "       [1.40999723e+00, 2.91863934e-01, 2.68085289e-01, ...,\n",
       "        0.00000000e+00, 3.50378592e-03, 2.32963985e-03],\n",
       "       [1.69014833e+00, 3.13648440e-01, 3.26127887e-01, ...,\n",
       "        0.00000000e+00, 3.25391767e-03, 1.77210119e-03],\n",
       "       ...,\n",
       "       [1.73393747e+00, 4.06719333e-01, 3.21166908e-01, ...,\n",
       "        0.00000000e+00, 2.71269625e-03, 9.00511411e-03],\n",
       "       [2.34361031e+00, 8.10544770e-01, 4.73941025e-01, ...,\n",
       "        0.00000000e+00, 1.01130066e-02, 9.66427605e-03],\n",
       "       [2.36796969e+00, 5.98146138e-01, 3.85569804e-01, ...,\n",
       "        0.00000000e+00, 6.39996638e-03, 5.37442746e-03]])"
      ]
     },
     "execution_count": 19,
     "metadata": {},
     "output_type": "execute_result"
    }
   ],
   "source": [
    "users_prediction"
   ]
  },
  {
   "cell_type": "markdown",
   "id": "f607286b",
   "metadata": {},
   "source": [
    "## Mean squared error function to determine precision"
   ]
  },
  {
   "cell_type": "code",
   "execution_count": 14,
   "id": "a1c819f7",
   "metadata": {},
   "outputs": [],
   "source": [
    "from sklearn.metrics import mean_squared_error"
   ]
  },
  {
   "cell_type": "code",
   "execution_count": 20,
   "id": "c1ae603f",
   "metadata": {},
   "outputs": [],
   "source": [
    "def get_mse(preds, actuals):\n",
    "    if preds.shape[0]!= actuals.shape[0]:\n",
    "        actuals = actuals.T\n",
    "    preds = preds[actuals.nonzero()].flatten()\n",
    "    actuals = actuals[actuals.nonzero()].flatten()\n",
    "    return mean_squared_error(actuals, preds)"
   ]
  },
  {
   "cell_type": "code",
   "execution_count": 21,
   "id": "edd2fffe",
   "metadata": {},
   "outputs": [
    {
     "data": {
      "text/plain": [
       "7.878218313143215"
      ]
     },
     "execution_count": 21,
     "metadata": {},
     "output_type": "execute_result"
    }
   ],
   "source": [
    "get_mse(users_prediction, ratings_train)"
   ]
  },
  {
   "cell_type": "markdown",
   "id": "5b9b02b3",
   "metadata": {},
   "source": [
    "## KNN sobre users"
   ]
  },
  {
   "cell_type": "code",
   "execution_count": 22,
   "id": "a9bdc2d7",
   "metadata": {},
   "outputs": [],
   "source": [
    "from sklearn.neighbors import NearestNeighbors"
   ]
  },
  {
   "cell_type": "code",
   "execution_count": 23,
   "id": "520f7ea8",
   "metadata": {},
   "outputs": [],
   "source": [
    "k = 12"
   ]
  },
  {
   "cell_type": "code",
   "execution_count": 24,
   "id": "ae39df68",
   "metadata": {},
   "outputs": [],
   "source": [
    "neighbors = NearestNeighbors(k , 'cosine')"
   ]
  },
  {
   "cell_type": "code",
   "execution_count": 25,
   "id": "3341f873",
   "metadata": {},
   "outputs": [
    {
     "data": {
      "text/plain": [
       "NearestNeighbors(algorithm='auto', leaf_size=30, metric='minkowski',\n",
       "                 metric_params=None, n_jobs=None, n_neighbors=12, p=2,\n",
       "                 radius='cosine')"
      ]
     },
     "execution_count": 25,
     "metadata": {},
     "output_type": "execute_result"
    }
   ],
   "source": [
    "neighbors.fit(ratings_train)"
   ]
  },
  {
   "cell_type": "code",
   "execution_count": 26,
   "id": "932d0a19",
   "metadata": {},
   "outputs": [],
   "source": [
    "top_k_distances, top_k_users = neighbors.kneighbors(ratings_train, return_distance = True)"
   ]
  },
  {
   "cell_type": "code",
   "execution_count": 28,
   "id": "8e875aed",
   "metadata": {},
   "outputs": [],
   "source": [
    "users_predict_k = np.zeros(ratings_train.shape)\n",
    "for i in range(ratings_train.shape[0]):\n",
    "    users_predict_k[i,:] = top_k_distances[i].T.dot(ratings_train[top_k_users][i]) / np.array([np.abs(top_k_distances[i].T.sum(axis=0))]).T"
   ]
  },
  {
   "cell_type": "code",
   "execution_count": 29,
   "id": "6c4efc71",
   "metadata": {},
   "outputs": [
    {
     "data": {
      "text/plain": [
       "8.295210936585795"
      ]
     },
     "execution_count": 29,
     "metadata": {},
     "output_type": "execute_result"
    }
   ],
   "source": [
    "get_mse(users_predict_k, ratings_train)"
   ]
  },
  {
   "cell_type": "markdown",
   "id": "1d6760b4",
   "metadata": {},
   "source": [
    "## KNN sobre ítems"
   ]
  },
  {
   "cell_type": "code",
   "execution_count": 30,
   "id": "35d56093",
   "metadata": {},
   "outputs": [
    {
     "data": {
      "text/plain": [
       "1682"
      ]
     },
     "execution_count": 30,
     "metadata": {},
     "output_type": "execute_result"
    }
   ],
   "source": [
    "n_movies = ratings_train.shape[1]\n",
    "n_movies"
   ]
  },
  {
   "cell_type": "code",
   "execution_count": 31,
   "id": "4e2a5fa4",
   "metadata": {},
   "outputs": [],
   "source": [
    "neighbors = NearestNeighbors(n_movies, 'cosine')"
   ]
  },
  {
   "cell_type": "code",
   "execution_count": 32,
   "id": "90c221f5",
   "metadata": {},
   "outputs": [
    {
     "data": {
      "text/plain": [
       "NearestNeighbors(algorithm='auto', leaf_size=30, metric='minkowski',\n",
       "                 metric_params=None, n_jobs=None, n_neighbors=1682, p=2,\n",
       "                 radius='cosine')"
      ]
     },
     "execution_count": 32,
     "metadata": {},
     "output_type": "execute_result"
    }
   ],
   "source": [
    "neighbors.fit(ratings_train.T)"
   ]
  },
  {
   "cell_type": "code",
   "execution_count": 33,
   "id": "11de97b3",
   "metadata": {},
   "outputs": [],
   "source": [
    "top_k_distances, top_k_items = neighbors.kneighbors(ratings_train.T, return_distance=True)"
   ]
  },
  {
   "cell_type": "code",
   "execution_count": 34,
   "id": "360d7764",
   "metadata": {},
   "outputs": [],
   "source": [
    "item_pred = ratings_train.dot(top_k_distances) / np.array([np.abs(top_k_distances).sum(axis=1)])"
   ]
  },
  {
   "cell_type": "code",
   "execution_count": 35,
   "id": "ae99c5c4",
   "metadata": {},
   "outputs": [
    {
     "data": {
      "text/plain": [
       "(660, 1682)"
      ]
     },
     "execution_count": 35,
     "metadata": {},
     "output_type": "execute_result"
    }
   ],
   "source": [
    "item_pred.shape"
   ]
  },
  {
   "cell_type": "code",
   "execution_count": 36,
   "id": "86c2c3fa",
   "metadata": {},
   "outputs": [
    {
     "data": {
      "text/plain": [
       "11.172565375125632"
      ]
     },
     "execution_count": 36,
     "metadata": {},
     "output_type": "execute_result"
    }
   ],
   "source": [
    "get_mse(item_pred, ratings_train)"
   ]
  },
  {
   "cell_type": "markdown",
   "id": "493cde40",
   "metadata": {},
   "source": [
    "## Recommendation on KNN"
   ]
  },
  {
   "cell_type": "code",
   "execution_count": 37,
   "id": "a9ed47dd",
   "metadata": {},
   "outputs": [],
   "source": [
    "k = 30\n",
    "neighbors = NearestNeighbors(k, 'cosine')\n",
    "neighbors.fit(ratings_train.T)\n",
    "top_k_distances, top_k_items = neighbors.kneighbors(ratings_train.T, return_distance=True)"
   ]
  },
  {
   "cell_type": "code",
   "execution_count": 38,
   "id": "c7082c95",
   "metadata": {},
   "outputs": [
    {
     "data": {
      "text/plain": [
       "{'divide': 'warn', 'over': 'warn', 'under': 'ignore', 'invalid': 'warn'}"
      ]
     },
     "execution_count": 38,
     "metadata": {},
     "output_type": "execute_result"
    }
   ],
   "source": [
    "np.seterr(invalid='ignore')"
   ]
  },
  {
   "cell_type": "code",
   "execution_count": 39,
   "id": "3bc1347f",
   "metadata": {},
   "outputs": [],
   "source": [
    "preds = np.zeros(ratings_train.T.shape)\n",
    "for i in range(ratings_train.T.shape[0]):\n",
    "    preds[i, :] = top_k_distances[i].dot(ratings_train.T[top_k_items][i]) / np.array([np.abs(top_k_distances[i]).sum(axis=0)]).T"
   ]
  },
  {
   "cell_type": "code",
   "execution_count": 40,
   "id": "43d947a1",
   "metadata": {
    "scrolled": true
   },
   "outputs": [
    {
     "data": {
      "text/plain": [
       "8.732017359673444"
      ]
     },
     "execution_count": 40,
     "metadata": {},
     "output_type": "execute_result"
    }
   ],
   "source": [
    "get_mse(preds, ratings_train)"
   ]
  }
 ],
 "metadata": {
  "kernelspec": {
   "display_name": "Python 3",
   "language": "python",
   "name": "python3"
  },
  "language_info": {
   "codemirror_mode": {
    "name": "ipython",
    "version": 3
   },
   "file_extension": ".py",
   "mimetype": "text/x-python",
   "name": "python",
   "nbconvert_exporter": "python",
   "pygments_lexer": "ipython3",
   "version": "3.8.5"
  }
 },
 "nbformat": 4,
 "nbformat_minor": 5
}
